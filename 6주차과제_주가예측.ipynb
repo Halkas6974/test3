{
  "nbformat": 4,
  "nbformat_minor": 0,
  "metadata": {
    "colab": {
      "name": "6주차과제_주가예측.ipynb",
      "provenance": [],
      "authorship_tag": "ABX9TyM8xRcMhvLDi/a8RwBD5Uj4",
      "include_colab_link": true
    },
    "kernelspec": {
      "name": "python3",
      "display_name": "Python 3"
    },
    "language_info": {
      "name": "python"
    }
  },
  "cells": [
    {
      "cell_type": "markdown",
      "metadata": {
        "id": "view-in-github",
        "colab_type": "text"
      },
      "source": [
        "<a href=\"https://colab.research.google.com/github/Halkas6974/test3/blob/main/6%EC%A3%BC%EC%B0%A8%EA%B3%BC%EC%A0%9C_%EC%A3%BC%EA%B0%80%EC%98%88%EC%B8%A1.ipynb\" target=\"_parent\"><img src=\"https://colab.research.google.com/assets/colab-badge.svg\" alt=\"Open In Colab\"/></a>"
      ]
    },
    {
      "cell_type": "code",
      "execution_count": 14,
      "metadata": {
        "id": "ctwJOyWDtaJJ"
      },
      "outputs": [],
      "source": [
        "import pandas as pd\n",
        "import numpy as np\n",
        "import matplotlib.pyplot as plt\n",
        "import seaborn as sns\n",
        "import warnings\n",
        "import os\n",
        "\n",
        "%matplotlib inline\n",
        "warnings.filterwarnings('ignore')\n",
        "plt.rcParams['figure.figsize'] = (15, 20)\n",
        "\n",
        "plt.rcParams['font.family'] = 'NanumGothic'"
      ]
    },
    {
      "cell_type": "code",
      "source": [
        "!pip install finance-datareader"
      ],
      "metadata": {
        "colab": {
          "base_uri": "https://localhost:8080/"
        },
        "id": "EMHQ4HUttmJ1",
        "outputId": "ff73afae-94a2-4798-86f1-015804198af7"
      },
      "execution_count": 15,
      "outputs": [
        {
          "output_type": "stream",
          "name": "stdout",
          "text": [
            "Looking in indexes: https://pypi.org/simple, https://us-python.pkg.dev/colab-wheels/public/simple/\n",
            "Requirement already satisfied: finance-datareader in /usr/local/lib/python3.7/dist-packages (0.9.34)\n",
            "Requirement already satisfied: pandas>=0.19.2 in /usr/local/lib/python3.7/dist-packages (from finance-datareader) (1.3.5)\n",
            "Requirement already satisfied: tqdm in /usr/local/lib/python3.7/dist-packages (from finance-datareader) (4.64.0)\n",
            "Requirement already satisfied: requests>=2.3.0 in /usr/local/lib/python3.7/dist-packages (from finance-datareader) (2.23.0)\n",
            "Requirement already satisfied: requests-file in /usr/local/lib/python3.7/dist-packages (from finance-datareader) (1.5.1)\n",
            "Requirement already satisfied: lxml in /usr/local/lib/python3.7/dist-packages (from finance-datareader) (4.2.6)\n",
            "Requirement already satisfied: python-dateutil>=2.7.3 in /usr/local/lib/python3.7/dist-packages (from pandas>=0.19.2->finance-datareader) (2.8.2)\n",
            "Requirement already satisfied: pytz>=2017.3 in /usr/local/lib/python3.7/dist-packages (from pandas>=0.19.2->finance-datareader) (2022.1)\n",
            "Requirement already satisfied: numpy>=1.17.3 in /usr/local/lib/python3.7/dist-packages (from pandas>=0.19.2->finance-datareader) (1.21.6)\n",
            "Requirement already satisfied: six>=1.5 in /usr/local/lib/python3.7/dist-packages (from python-dateutil>=2.7.3->pandas>=0.19.2->finance-datareader) (1.15.0)\n",
            "Requirement already satisfied: urllib3!=1.25.0,!=1.25.1,<1.26,>=1.21.1 in /usr/local/lib/python3.7/dist-packages (from requests>=2.3.0->finance-datareader) (1.24.3)\n",
            "Requirement already satisfied: idna<3,>=2.5 in /usr/local/lib/python3.7/dist-packages (from requests>=2.3.0->finance-datareader) (2.10)\n",
            "Requirement already satisfied: chardet<4,>=3.0.2 in /usr/local/lib/python3.7/dist-packages (from requests>=2.3.0->finance-datareader) (3.0.4)\n",
            "Requirement already satisfied: certifi>=2017.4.17 in /usr/local/lib/python3.7/dist-packages (from requests>=2.3.0->finance-datareader) (2022.6.15)\n"
          ]
        }
      ]
    },
    {
      "cell_type": "code",
      "source": [
        "import FinanceDataReader as fdr"
      ],
      "metadata": {
        "id": "7hvG_JY1tslT"
      },
      "execution_count": 16,
      "outputs": []
    },
    {
      "cell_type": "code",
      "source": [
        "# KOSPI index, 2015 ~ Now\n",
        "ks11 = fdr.DataReader('KS11', '2015-01-01')\n"
      ],
      "metadata": {
        "id": "uZtYKDKetv51"
      },
      "execution_count": 17,
      "outputs": []
    },
    {
      "cell_type": "code",
      "source": [
        "ks11.tail()"
      ],
      "metadata": {
        "colab": {
          "base_uri": "https://localhost:8080/",
          "height": 237
        },
        "id": "lcoQsCGmuDaj",
        "outputId": "1c540da6-cf51-4e1f-edfd-47f5743703a5"
      },
      "execution_count": 18,
      "outputs": [
        {
          "output_type": "execute_result",
          "data": {
            "text/plain": [
              "              Close     Open     High      Low       Volume  Change\n",
              "Date                                                               \n",
              "2022-07-08  2350.61  2352.49  2367.84  2348.74  411420000.0  0.0070\n",
              "2022-07-11  2340.27  2357.43  2363.26  2337.82  377110000.0 -0.0044\n",
              "2022-07-12  2317.76  2330.88  2333.02  2303.74  379310000.0 -0.0096\n",
              "2022-07-13  2328.61  2324.45  2341.19  2312.49     303140.0  0.0047\n",
              "2022-07-14  2330.73  2316.41  2332.16  2307.69     218660.0  0.0009"
            ],
            "text/html": [
              "\n",
              "  <div id=\"df-ede2a220-aa96-443b-b273-4ded51bd89de\">\n",
              "    <div class=\"colab-df-container\">\n",
              "      <div>\n",
              "<style scoped>\n",
              "    .dataframe tbody tr th:only-of-type {\n",
              "        vertical-align: middle;\n",
              "    }\n",
              "\n",
              "    .dataframe tbody tr th {\n",
              "        vertical-align: top;\n",
              "    }\n",
              "\n",
              "    .dataframe thead th {\n",
              "        text-align: right;\n",
              "    }\n",
              "</style>\n",
              "<table border=\"1\" class=\"dataframe\">\n",
              "  <thead>\n",
              "    <tr style=\"text-align: right;\">\n",
              "      <th></th>\n",
              "      <th>Close</th>\n",
              "      <th>Open</th>\n",
              "      <th>High</th>\n",
              "      <th>Low</th>\n",
              "      <th>Volume</th>\n",
              "      <th>Change</th>\n",
              "    </tr>\n",
              "    <tr>\n",
              "      <th>Date</th>\n",
              "      <th></th>\n",
              "      <th></th>\n",
              "      <th></th>\n",
              "      <th></th>\n",
              "      <th></th>\n",
              "      <th></th>\n",
              "    </tr>\n",
              "  </thead>\n",
              "  <tbody>\n",
              "    <tr>\n",
              "      <th>2022-07-08</th>\n",
              "      <td>2350.61</td>\n",
              "      <td>2352.49</td>\n",
              "      <td>2367.84</td>\n",
              "      <td>2348.74</td>\n",
              "      <td>411420000.0</td>\n",
              "      <td>0.0070</td>\n",
              "    </tr>\n",
              "    <tr>\n",
              "      <th>2022-07-11</th>\n",
              "      <td>2340.27</td>\n",
              "      <td>2357.43</td>\n",
              "      <td>2363.26</td>\n",
              "      <td>2337.82</td>\n",
              "      <td>377110000.0</td>\n",
              "      <td>-0.0044</td>\n",
              "    </tr>\n",
              "    <tr>\n",
              "      <th>2022-07-12</th>\n",
              "      <td>2317.76</td>\n",
              "      <td>2330.88</td>\n",
              "      <td>2333.02</td>\n",
              "      <td>2303.74</td>\n",
              "      <td>379310000.0</td>\n",
              "      <td>-0.0096</td>\n",
              "    </tr>\n",
              "    <tr>\n",
              "      <th>2022-07-13</th>\n",
              "      <td>2328.61</td>\n",
              "      <td>2324.45</td>\n",
              "      <td>2341.19</td>\n",
              "      <td>2312.49</td>\n",
              "      <td>303140.0</td>\n",
              "      <td>0.0047</td>\n",
              "    </tr>\n",
              "    <tr>\n",
              "      <th>2022-07-14</th>\n",
              "      <td>2330.73</td>\n",
              "      <td>2316.41</td>\n",
              "      <td>2332.16</td>\n",
              "      <td>2307.69</td>\n",
              "      <td>218660.0</td>\n",
              "      <td>0.0009</td>\n",
              "    </tr>\n",
              "  </tbody>\n",
              "</table>\n",
              "</div>\n",
              "      <button class=\"colab-df-convert\" onclick=\"convertToInteractive('df-ede2a220-aa96-443b-b273-4ded51bd89de')\"\n",
              "              title=\"Convert this dataframe to an interactive table.\"\n",
              "              style=\"display:none;\">\n",
              "        \n",
              "  <svg xmlns=\"http://www.w3.org/2000/svg\" height=\"24px\"viewBox=\"0 0 24 24\"\n",
              "       width=\"24px\">\n",
              "    <path d=\"M0 0h24v24H0V0z\" fill=\"none\"/>\n",
              "    <path d=\"M18.56 5.44l.94 2.06.94-2.06 2.06-.94-2.06-.94-.94-2.06-.94 2.06-2.06.94zm-11 1L8.5 8.5l.94-2.06 2.06-.94-2.06-.94L8.5 2.5l-.94 2.06-2.06.94zm10 10l.94 2.06.94-2.06 2.06-.94-2.06-.94-.94-2.06-.94 2.06-2.06.94z\"/><path d=\"M17.41 7.96l-1.37-1.37c-.4-.4-.92-.59-1.43-.59-.52 0-1.04.2-1.43.59L10.3 9.45l-7.72 7.72c-.78.78-.78 2.05 0 2.83L4 21.41c.39.39.9.59 1.41.59.51 0 1.02-.2 1.41-.59l7.78-7.78 2.81-2.81c.8-.78.8-2.07 0-2.86zM5.41 20L4 18.59l7.72-7.72 1.47 1.35L5.41 20z\"/>\n",
              "  </svg>\n",
              "      </button>\n",
              "      \n",
              "  <style>\n",
              "    .colab-df-container {\n",
              "      display:flex;\n",
              "      flex-wrap:wrap;\n",
              "      gap: 12px;\n",
              "    }\n",
              "\n",
              "    .colab-df-convert {\n",
              "      background-color: #E8F0FE;\n",
              "      border: none;\n",
              "      border-radius: 50%;\n",
              "      cursor: pointer;\n",
              "      display: none;\n",
              "      fill: #1967D2;\n",
              "      height: 32px;\n",
              "      padding: 0 0 0 0;\n",
              "      width: 32px;\n",
              "    }\n",
              "\n",
              "    .colab-df-convert:hover {\n",
              "      background-color: #E2EBFA;\n",
              "      box-shadow: 0px 1px 2px rgba(60, 64, 67, 0.3), 0px 1px 3px 1px rgba(60, 64, 67, 0.15);\n",
              "      fill: #174EA6;\n",
              "    }\n",
              "\n",
              "    [theme=dark] .colab-df-convert {\n",
              "      background-color: #3B4455;\n",
              "      fill: #D2E3FC;\n",
              "    }\n",
              "\n",
              "    [theme=dark] .colab-df-convert:hover {\n",
              "      background-color: #434B5C;\n",
              "      box-shadow: 0px 1px 3px 1px rgba(0, 0, 0, 0.15);\n",
              "      filter: drop-shadow(0px 1px 2px rgba(0, 0, 0, 0.3));\n",
              "      fill: #FFFFFF;\n",
              "    }\n",
              "  </style>\n",
              "\n",
              "      <script>\n",
              "        const buttonEl =\n",
              "          document.querySelector('#df-ede2a220-aa96-443b-b273-4ded51bd89de button.colab-df-convert');\n",
              "        buttonEl.style.display =\n",
              "          google.colab.kernel.accessAllowed ? 'block' : 'none';\n",
              "\n",
              "        async function convertToInteractive(key) {\n",
              "          const element = document.querySelector('#df-ede2a220-aa96-443b-b273-4ded51bd89de');\n",
              "          const dataTable =\n",
              "            await google.colab.kernel.invokeFunction('convertToInteractive',\n",
              "                                                     [key], {});\n",
              "          if (!dataTable) return;\n",
              "\n",
              "          const docLinkHtml = 'Like what you see? Visit the ' +\n",
              "            '<a target=\"_blank\" href=https://colab.research.google.com/notebooks/data_table.ipynb>data table notebook</a>'\n",
              "            + ' to learn more about interactive tables.';\n",
              "          element.innerHTML = '';\n",
              "          dataTable['output_type'] = 'display_data';\n",
              "          await google.colab.output.renderOutput(dataTable, element);\n",
              "          const docLink = document.createElement('div');\n",
              "          docLink.innerHTML = docLinkHtml;\n",
              "          element.appendChild(docLink);\n",
              "        }\n",
              "      </script>\n",
              "    </div>\n",
              "  </div>\n",
              "  "
            ]
          },
          "metadata": {},
          "execution_count": 18
        }
      ]
    },
    {
      "cell_type": "code",
      "source": [
        "STOCK_CODE = 'ks11'"
      ],
      "metadata": {
        "id": "7HixJIOkvFAU"
      },
      "execution_count": 19,
      "outputs": []
    },
    {
      "cell_type": "code",
      "source": [
        "stock = fdr.DataReader(STOCK_CODE)"
      ],
      "metadata": {
        "id": "Y_CglABAvVeq"
      },
      "execution_count": 20,
      "outputs": []
    },
    {
      "cell_type": "code",
      "source": [
        "stock.head()"
      ],
      "metadata": {
        "colab": {
          "base_uri": "https://localhost:8080/",
          "height": 237
        },
        "id": "6xQNU-Vgvb0S",
        "outputId": "27ed257f-8be9-4e08-e346-5fc5319bd196"
      },
      "execution_count": 21,
      "outputs": [
        {
          "output_type": "execute_result",
          "data": {
            "text/plain": [
              "            Close   Open   High    Low     Volume  Change\n",
              "Date                                                     \n",
              "1981-05-01  123.6  123.6  123.6  123.6  3330000.0  0.0098\n",
              "1981-05-02  123.5  123.5  123.5  123.5  2040000.0 -0.0008\n",
              "1981-05-04  120.6  120.6  120.6  120.6  1930000.0 -0.0235\n",
              "1981-05-06  120.7  120.7  120.7  120.7  1690000.0  0.0008\n",
              "1981-05-07  119.3  119.3  119.3  119.3  1480000.0 -0.0116"
            ],
            "text/html": [
              "\n",
              "  <div id=\"df-4fef8008-3218-4bf6-8514-78520653deea\">\n",
              "    <div class=\"colab-df-container\">\n",
              "      <div>\n",
              "<style scoped>\n",
              "    .dataframe tbody tr th:only-of-type {\n",
              "        vertical-align: middle;\n",
              "    }\n",
              "\n",
              "    .dataframe tbody tr th {\n",
              "        vertical-align: top;\n",
              "    }\n",
              "\n",
              "    .dataframe thead th {\n",
              "        text-align: right;\n",
              "    }\n",
              "</style>\n",
              "<table border=\"1\" class=\"dataframe\">\n",
              "  <thead>\n",
              "    <tr style=\"text-align: right;\">\n",
              "      <th></th>\n",
              "      <th>Close</th>\n",
              "      <th>Open</th>\n",
              "      <th>High</th>\n",
              "      <th>Low</th>\n",
              "      <th>Volume</th>\n",
              "      <th>Change</th>\n",
              "    </tr>\n",
              "    <tr>\n",
              "      <th>Date</th>\n",
              "      <th></th>\n",
              "      <th></th>\n",
              "      <th></th>\n",
              "      <th></th>\n",
              "      <th></th>\n",
              "      <th></th>\n",
              "    </tr>\n",
              "  </thead>\n",
              "  <tbody>\n",
              "    <tr>\n",
              "      <th>1981-05-01</th>\n",
              "      <td>123.6</td>\n",
              "      <td>123.6</td>\n",
              "      <td>123.6</td>\n",
              "      <td>123.6</td>\n",
              "      <td>3330000.0</td>\n",
              "      <td>0.0098</td>\n",
              "    </tr>\n",
              "    <tr>\n",
              "      <th>1981-05-02</th>\n",
              "      <td>123.5</td>\n",
              "      <td>123.5</td>\n",
              "      <td>123.5</td>\n",
              "      <td>123.5</td>\n",
              "      <td>2040000.0</td>\n",
              "      <td>-0.0008</td>\n",
              "    </tr>\n",
              "    <tr>\n",
              "      <th>1981-05-04</th>\n",
              "      <td>120.6</td>\n",
              "      <td>120.6</td>\n",
              "      <td>120.6</td>\n",
              "      <td>120.6</td>\n",
              "      <td>1930000.0</td>\n",
              "      <td>-0.0235</td>\n",
              "    </tr>\n",
              "    <tr>\n",
              "      <th>1981-05-06</th>\n",
              "      <td>120.7</td>\n",
              "      <td>120.7</td>\n",
              "      <td>120.7</td>\n",
              "      <td>120.7</td>\n",
              "      <td>1690000.0</td>\n",
              "      <td>0.0008</td>\n",
              "    </tr>\n",
              "    <tr>\n",
              "      <th>1981-05-07</th>\n",
              "      <td>119.3</td>\n",
              "      <td>119.3</td>\n",
              "      <td>119.3</td>\n",
              "      <td>119.3</td>\n",
              "      <td>1480000.0</td>\n",
              "      <td>-0.0116</td>\n",
              "    </tr>\n",
              "  </tbody>\n",
              "</table>\n",
              "</div>\n",
              "      <button class=\"colab-df-convert\" onclick=\"convertToInteractive('df-4fef8008-3218-4bf6-8514-78520653deea')\"\n",
              "              title=\"Convert this dataframe to an interactive table.\"\n",
              "              style=\"display:none;\">\n",
              "        \n",
              "  <svg xmlns=\"http://www.w3.org/2000/svg\" height=\"24px\"viewBox=\"0 0 24 24\"\n",
              "       width=\"24px\">\n",
              "    <path d=\"M0 0h24v24H0V0z\" fill=\"none\"/>\n",
              "    <path d=\"M18.56 5.44l.94 2.06.94-2.06 2.06-.94-2.06-.94-.94-2.06-.94 2.06-2.06.94zm-11 1L8.5 8.5l.94-2.06 2.06-.94-2.06-.94L8.5 2.5l-.94 2.06-2.06.94zm10 10l.94 2.06.94-2.06 2.06-.94-2.06-.94-.94-2.06-.94 2.06-2.06.94z\"/><path d=\"M17.41 7.96l-1.37-1.37c-.4-.4-.92-.59-1.43-.59-.52 0-1.04.2-1.43.59L10.3 9.45l-7.72 7.72c-.78.78-.78 2.05 0 2.83L4 21.41c.39.39.9.59 1.41.59.51 0 1.02-.2 1.41-.59l7.78-7.78 2.81-2.81c.8-.78.8-2.07 0-2.86zM5.41 20L4 18.59l7.72-7.72 1.47 1.35L5.41 20z\"/>\n",
              "  </svg>\n",
              "      </button>\n",
              "      \n",
              "  <style>\n",
              "    .colab-df-container {\n",
              "      display:flex;\n",
              "      flex-wrap:wrap;\n",
              "      gap: 12px;\n",
              "    }\n",
              "\n",
              "    .colab-df-convert {\n",
              "      background-color: #E8F0FE;\n",
              "      border: none;\n",
              "      border-radius: 50%;\n",
              "      cursor: pointer;\n",
              "      display: none;\n",
              "      fill: #1967D2;\n",
              "      height: 32px;\n",
              "      padding: 0 0 0 0;\n",
              "      width: 32px;\n",
              "    }\n",
              "\n",
              "    .colab-df-convert:hover {\n",
              "      background-color: #E2EBFA;\n",
              "      box-shadow: 0px 1px 2px rgba(60, 64, 67, 0.3), 0px 1px 3px 1px rgba(60, 64, 67, 0.15);\n",
              "      fill: #174EA6;\n",
              "    }\n",
              "\n",
              "    [theme=dark] .colab-df-convert {\n",
              "      background-color: #3B4455;\n",
              "      fill: #D2E3FC;\n",
              "    }\n",
              "\n",
              "    [theme=dark] .colab-df-convert:hover {\n",
              "      background-color: #434B5C;\n",
              "      box-shadow: 0px 1px 3px 1px rgba(0, 0, 0, 0.15);\n",
              "      filter: drop-shadow(0px 1px 2px rgba(0, 0, 0, 0.3));\n",
              "      fill: #FFFFFF;\n",
              "    }\n",
              "  </style>\n",
              "\n",
              "      <script>\n",
              "        const buttonEl =\n",
              "          document.querySelector('#df-4fef8008-3218-4bf6-8514-78520653deea button.colab-df-convert');\n",
              "        buttonEl.style.display =\n",
              "          google.colab.kernel.accessAllowed ? 'block' : 'none';\n",
              "\n",
              "        async function convertToInteractive(key) {\n",
              "          const element = document.querySelector('#df-4fef8008-3218-4bf6-8514-78520653deea');\n",
              "          const dataTable =\n",
              "            await google.colab.kernel.invokeFunction('convertToInteractive',\n",
              "                                                     [key], {});\n",
              "          if (!dataTable) return;\n",
              "\n",
              "          const docLinkHtml = 'Like what you see? Visit the ' +\n",
              "            '<a target=\"_blank\" href=https://colab.research.google.com/notebooks/data_table.ipynb>data table notebook</a>'\n",
              "            + ' to learn more about interactive tables.';\n",
              "          element.innerHTML = '';\n",
              "          dataTable['output_type'] = 'display_data';\n",
              "          await google.colab.output.renderOutput(dataTable, element);\n",
              "          const docLink = document.createElement('div');\n",
              "          docLink.innerHTML = docLinkHtml;\n",
              "          element.appendChild(docLink);\n",
              "        }\n",
              "      </script>\n",
              "    </div>\n",
              "  </div>\n",
              "  "
            ]
          },
          "metadata": {},
          "execution_count": 21
        }
      ]
    },
    {
      "cell_type": "code",
      "source": [
        "stock.tail()"
      ],
      "metadata": {
        "colab": {
          "base_uri": "https://localhost:8080/",
          "height": 237
        },
        "id": "MVLeVownvjQp",
        "outputId": "602cbbeb-20e9-48e9-8f86-b9c26884073e"
      },
      "execution_count": 22,
      "outputs": [
        {
          "output_type": "execute_result",
          "data": {
            "text/plain": [
              "              Close     Open     High      Low       Volume  Change\n",
              "Date                                                               \n",
              "2022-07-08  2350.61  2352.49  2367.84  2348.74  411420000.0  0.0070\n",
              "2022-07-11  2340.27  2357.43  2363.26  2337.82  377110000.0 -0.0044\n",
              "2022-07-12  2317.76  2330.88  2333.02  2303.74  379310000.0 -0.0096\n",
              "2022-07-13  2328.61  2324.45  2341.19  2312.49     303140.0  0.0047\n",
              "2022-07-14  2331.80  2316.41  2332.16  2307.69     218820.0  0.0014"
            ],
            "text/html": [
              "\n",
              "  <div id=\"df-3333f829-5b29-4301-b3b1-e5de84753ac6\">\n",
              "    <div class=\"colab-df-container\">\n",
              "      <div>\n",
              "<style scoped>\n",
              "    .dataframe tbody tr th:only-of-type {\n",
              "        vertical-align: middle;\n",
              "    }\n",
              "\n",
              "    .dataframe tbody tr th {\n",
              "        vertical-align: top;\n",
              "    }\n",
              "\n",
              "    .dataframe thead th {\n",
              "        text-align: right;\n",
              "    }\n",
              "</style>\n",
              "<table border=\"1\" class=\"dataframe\">\n",
              "  <thead>\n",
              "    <tr style=\"text-align: right;\">\n",
              "      <th></th>\n",
              "      <th>Close</th>\n",
              "      <th>Open</th>\n",
              "      <th>High</th>\n",
              "      <th>Low</th>\n",
              "      <th>Volume</th>\n",
              "      <th>Change</th>\n",
              "    </tr>\n",
              "    <tr>\n",
              "      <th>Date</th>\n",
              "      <th></th>\n",
              "      <th></th>\n",
              "      <th></th>\n",
              "      <th></th>\n",
              "      <th></th>\n",
              "      <th></th>\n",
              "    </tr>\n",
              "  </thead>\n",
              "  <tbody>\n",
              "    <tr>\n",
              "      <th>2022-07-08</th>\n",
              "      <td>2350.61</td>\n",
              "      <td>2352.49</td>\n",
              "      <td>2367.84</td>\n",
              "      <td>2348.74</td>\n",
              "      <td>411420000.0</td>\n",
              "      <td>0.0070</td>\n",
              "    </tr>\n",
              "    <tr>\n",
              "      <th>2022-07-11</th>\n",
              "      <td>2340.27</td>\n",
              "      <td>2357.43</td>\n",
              "      <td>2363.26</td>\n",
              "      <td>2337.82</td>\n",
              "      <td>377110000.0</td>\n",
              "      <td>-0.0044</td>\n",
              "    </tr>\n",
              "    <tr>\n",
              "      <th>2022-07-12</th>\n",
              "      <td>2317.76</td>\n",
              "      <td>2330.88</td>\n",
              "      <td>2333.02</td>\n",
              "      <td>2303.74</td>\n",
              "      <td>379310000.0</td>\n",
              "      <td>-0.0096</td>\n",
              "    </tr>\n",
              "    <tr>\n",
              "      <th>2022-07-13</th>\n",
              "      <td>2328.61</td>\n",
              "      <td>2324.45</td>\n",
              "      <td>2341.19</td>\n",
              "      <td>2312.49</td>\n",
              "      <td>303140.0</td>\n",
              "      <td>0.0047</td>\n",
              "    </tr>\n",
              "    <tr>\n",
              "      <th>2022-07-14</th>\n",
              "      <td>2331.80</td>\n",
              "      <td>2316.41</td>\n",
              "      <td>2332.16</td>\n",
              "      <td>2307.69</td>\n",
              "      <td>218820.0</td>\n",
              "      <td>0.0014</td>\n",
              "    </tr>\n",
              "  </tbody>\n",
              "</table>\n",
              "</div>\n",
              "      <button class=\"colab-df-convert\" onclick=\"convertToInteractive('df-3333f829-5b29-4301-b3b1-e5de84753ac6')\"\n",
              "              title=\"Convert this dataframe to an interactive table.\"\n",
              "              style=\"display:none;\">\n",
              "        \n",
              "  <svg xmlns=\"http://www.w3.org/2000/svg\" height=\"24px\"viewBox=\"0 0 24 24\"\n",
              "       width=\"24px\">\n",
              "    <path d=\"M0 0h24v24H0V0z\" fill=\"none\"/>\n",
              "    <path d=\"M18.56 5.44l.94 2.06.94-2.06 2.06-.94-2.06-.94-.94-2.06-.94 2.06-2.06.94zm-11 1L8.5 8.5l.94-2.06 2.06-.94-2.06-.94L8.5 2.5l-.94 2.06-2.06.94zm10 10l.94 2.06.94-2.06 2.06-.94-2.06-.94-.94-2.06-.94 2.06-2.06.94z\"/><path d=\"M17.41 7.96l-1.37-1.37c-.4-.4-.92-.59-1.43-.59-.52 0-1.04.2-1.43.59L10.3 9.45l-7.72 7.72c-.78.78-.78 2.05 0 2.83L4 21.41c.39.39.9.59 1.41.59.51 0 1.02-.2 1.41-.59l7.78-7.78 2.81-2.81c.8-.78.8-2.07 0-2.86zM5.41 20L4 18.59l7.72-7.72 1.47 1.35L5.41 20z\"/>\n",
              "  </svg>\n",
              "      </button>\n",
              "      \n",
              "  <style>\n",
              "    .colab-df-container {\n",
              "      display:flex;\n",
              "      flex-wrap:wrap;\n",
              "      gap: 12px;\n",
              "    }\n",
              "\n",
              "    .colab-df-convert {\n",
              "      background-color: #E8F0FE;\n",
              "      border: none;\n",
              "      border-radius: 50%;\n",
              "      cursor: pointer;\n",
              "      display: none;\n",
              "      fill: #1967D2;\n",
              "      height: 32px;\n",
              "      padding: 0 0 0 0;\n",
              "      width: 32px;\n",
              "    }\n",
              "\n",
              "    .colab-df-convert:hover {\n",
              "      background-color: #E2EBFA;\n",
              "      box-shadow: 0px 1px 2px rgba(60, 64, 67, 0.3), 0px 1px 3px 1px rgba(60, 64, 67, 0.15);\n",
              "      fill: #174EA6;\n",
              "    }\n",
              "\n",
              "    [theme=dark] .colab-df-convert {\n",
              "      background-color: #3B4455;\n",
              "      fill: #D2E3FC;\n",
              "    }\n",
              "\n",
              "    [theme=dark] .colab-df-convert:hover {\n",
              "      background-color: #434B5C;\n",
              "      box-shadow: 0px 1px 3px 1px rgba(0, 0, 0, 0.15);\n",
              "      filter: drop-shadow(0px 1px 2px rgba(0, 0, 0, 0.3));\n",
              "      fill: #FFFFFF;\n",
              "    }\n",
              "  </style>\n",
              "\n",
              "      <script>\n",
              "        const buttonEl =\n",
              "          document.querySelector('#df-3333f829-5b29-4301-b3b1-e5de84753ac6 button.colab-df-convert');\n",
              "        buttonEl.style.display =\n",
              "          google.colab.kernel.accessAllowed ? 'block' : 'none';\n",
              "\n",
              "        async function convertToInteractive(key) {\n",
              "          const element = document.querySelector('#df-3333f829-5b29-4301-b3b1-e5de84753ac6');\n",
              "          const dataTable =\n",
              "            await google.colab.kernel.invokeFunction('convertToInteractive',\n",
              "                                                     [key], {});\n",
              "          if (!dataTable) return;\n",
              "\n",
              "          const docLinkHtml = 'Like what you see? Visit the ' +\n",
              "            '<a target=\"_blank\" href=https://colab.research.google.com/notebooks/data_table.ipynb>data table notebook</a>'\n",
              "            + ' to learn more about interactive tables.';\n",
              "          element.innerHTML = '';\n",
              "          dataTable['output_type'] = 'display_data';\n",
              "          await google.colab.output.renderOutput(dataTable, element);\n",
              "          const docLink = document.createElement('div');\n",
              "          docLink.innerHTML = docLinkHtml;\n",
              "          element.appendChild(docLink);\n",
              "        }\n",
              "      </script>\n",
              "    </div>\n",
              "  </div>\n",
              "  "
            ]
          },
          "metadata": {},
          "execution_count": 22
        }
      ]
    },
    {
      "cell_type": "code",
      "source": [
        "stock.index"
      ],
      "metadata": {
        "colab": {
          "base_uri": "https://localhost:8080/"
        },
        "id": "yAo7uimXvsMh",
        "outputId": "b5c53fc2-eb67-49ee-98b5-79ba4cd68cad"
      },
      "execution_count": 23,
      "outputs": [
        {
          "output_type": "execute_result",
          "data": {
            "text/plain": [
              "DatetimeIndex(['1981-05-01', '1981-05-02', '1981-05-04', '1981-05-06',\n",
              "               '1981-05-07', '1981-05-08', '1981-05-09', '1981-05-12',\n",
              "               '1981-05-13', '1981-05-14',\n",
              "               ...\n",
              "               '2022-07-01', '2022-07-04', '2022-07-05', '2022-07-06',\n",
              "               '2022-07-07', '2022-07-08', '2022-07-11', '2022-07-12',\n",
              "               '2022-07-13', '2022-07-14'],\n",
              "              dtype='datetime64[ns]', name='Date', length=10991, freq=None)"
            ]
          },
          "metadata": {},
          "execution_count": 23
        }
      ]
    },
    {
      "cell_type": "code",
      "source": [
        "stock['Year'] = stock.index.year\n",
        "stock['Month'] = stock.index.month\n",
        "stock['Day'] = stock.index.day"
      ],
      "metadata": {
        "id": "0M_38szFvwgB"
      },
      "execution_count": 24,
      "outputs": []
    },
    {
      "cell_type": "code",
      "source": [
        "stock.head()"
      ],
      "metadata": {
        "colab": {
          "base_uri": "https://localhost:8080/",
          "height": 237
        },
        "id": "2E4fezRHvykx",
        "outputId": "1e778747-587e-448d-baac-de4c96eaef44"
      },
      "execution_count": 25,
      "outputs": [
        {
          "output_type": "execute_result",
          "data": {
            "text/plain": [
              "            Close   Open   High    Low     Volume  Change  Year  Month  Day\n",
              "Date                                                                       \n",
              "1981-05-01  123.6  123.6  123.6  123.6  3330000.0  0.0098  1981      5    1\n",
              "1981-05-02  123.5  123.5  123.5  123.5  2040000.0 -0.0008  1981      5    2\n",
              "1981-05-04  120.6  120.6  120.6  120.6  1930000.0 -0.0235  1981      5    4\n",
              "1981-05-06  120.7  120.7  120.7  120.7  1690000.0  0.0008  1981      5    6\n",
              "1981-05-07  119.3  119.3  119.3  119.3  1480000.0 -0.0116  1981      5    7"
            ],
            "text/html": [
              "\n",
              "  <div id=\"df-da5e34ea-4b6b-4eb8-b22e-950edc29055f\">\n",
              "    <div class=\"colab-df-container\">\n",
              "      <div>\n",
              "<style scoped>\n",
              "    .dataframe tbody tr th:only-of-type {\n",
              "        vertical-align: middle;\n",
              "    }\n",
              "\n",
              "    .dataframe tbody tr th {\n",
              "        vertical-align: top;\n",
              "    }\n",
              "\n",
              "    .dataframe thead th {\n",
              "        text-align: right;\n",
              "    }\n",
              "</style>\n",
              "<table border=\"1\" class=\"dataframe\">\n",
              "  <thead>\n",
              "    <tr style=\"text-align: right;\">\n",
              "      <th></th>\n",
              "      <th>Close</th>\n",
              "      <th>Open</th>\n",
              "      <th>High</th>\n",
              "      <th>Low</th>\n",
              "      <th>Volume</th>\n",
              "      <th>Change</th>\n",
              "      <th>Year</th>\n",
              "      <th>Month</th>\n",
              "      <th>Day</th>\n",
              "    </tr>\n",
              "    <tr>\n",
              "      <th>Date</th>\n",
              "      <th></th>\n",
              "      <th></th>\n",
              "      <th></th>\n",
              "      <th></th>\n",
              "      <th></th>\n",
              "      <th></th>\n",
              "      <th></th>\n",
              "      <th></th>\n",
              "      <th></th>\n",
              "    </tr>\n",
              "  </thead>\n",
              "  <tbody>\n",
              "    <tr>\n",
              "      <th>1981-05-01</th>\n",
              "      <td>123.6</td>\n",
              "      <td>123.6</td>\n",
              "      <td>123.6</td>\n",
              "      <td>123.6</td>\n",
              "      <td>3330000.0</td>\n",
              "      <td>0.0098</td>\n",
              "      <td>1981</td>\n",
              "      <td>5</td>\n",
              "      <td>1</td>\n",
              "    </tr>\n",
              "    <tr>\n",
              "      <th>1981-05-02</th>\n",
              "      <td>123.5</td>\n",
              "      <td>123.5</td>\n",
              "      <td>123.5</td>\n",
              "      <td>123.5</td>\n",
              "      <td>2040000.0</td>\n",
              "      <td>-0.0008</td>\n",
              "      <td>1981</td>\n",
              "      <td>5</td>\n",
              "      <td>2</td>\n",
              "    </tr>\n",
              "    <tr>\n",
              "      <th>1981-05-04</th>\n",
              "      <td>120.6</td>\n",
              "      <td>120.6</td>\n",
              "      <td>120.6</td>\n",
              "      <td>120.6</td>\n",
              "      <td>1930000.0</td>\n",
              "      <td>-0.0235</td>\n",
              "      <td>1981</td>\n",
              "      <td>5</td>\n",
              "      <td>4</td>\n",
              "    </tr>\n",
              "    <tr>\n",
              "      <th>1981-05-06</th>\n",
              "      <td>120.7</td>\n",
              "      <td>120.7</td>\n",
              "      <td>120.7</td>\n",
              "      <td>120.7</td>\n",
              "      <td>1690000.0</td>\n",
              "      <td>0.0008</td>\n",
              "      <td>1981</td>\n",
              "      <td>5</td>\n",
              "      <td>6</td>\n",
              "    </tr>\n",
              "    <tr>\n",
              "      <th>1981-05-07</th>\n",
              "      <td>119.3</td>\n",
              "      <td>119.3</td>\n",
              "      <td>119.3</td>\n",
              "      <td>119.3</td>\n",
              "      <td>1480000.0</td>\n",
              "      <td>-0.0116</td>\n",
              "      <td>1981</td>\n",
              "      <td>5</td>\n",
              "      <td>7</td>\n",
              "    </tr>\n",
              "  </tbody>\n",
              "</table>\n",
              "</div>\n",
              "      <button class=\"colab-df-convert\" onclick=\"convertToInteractive('df-da5e34ea-4b6b-4eb8-b22e-950edc29055f')\"\n",
              "              title=\"Convert this dataframe to an interactive table.\"\n",
              "              style=\"display:none;\">\n",
              "        \n",
              "  <svg xmlns=\"http://www.w3.org/2000/svg\" height=\"24px\"viewBox=\"0 0 24 24\"\n",
              "       width=\"24px\">\n",
              "    <path d=\"M0 0h24v24H0V0z\" fill=\"none\"/>\n",
              "    <path d=\"M18.56 5.44l.94 2.06.94-2.06 2.06-.94-2.06-.94-.94-2.06-.94 2.06-2.06.94zm-11 1L8.5 8.5l.94-2.06 2.06-.94-2.06-.94L8.5 2.5l-.94 2.06-2.06.94zm10 10l.94 2.06.94-2.06 2.06-.94-2.06-.94-.94-2.06-.94 2.06-2.06.94z\"/><path d=\"M17.41 7.96l-1.37-1.37c-.4-.4-.92-.59-1.43-.59-.52 0-1.04.2-1.43.59L10.3 9.45l-7.72 7.72c-.78.78-.78 2.05 0 2.83L4 21.41c.39.39.9.59 1.41.59.51 0 1.02-.2 1.41-.59l7.78-7.78 2.81-2.81c.8-.78.8-2.07 0-2.86zM5.41 20L4 18.59l7.72-7.72 1.47 1.35L5.41 20z\"/>\n",
              "  </svg>\n",
              "      </button>\n",
              "      \n",
              "  <style>\n",
              "    .colab-df-container {\n",
              "      display:flex;\n",
              "      flex-wrap:wrap;\n",
              "      gap: 12px;\n",
              "    }\n",
              "\n",
              "    .colab-df-convert {\n",
              "      background-color: #E8F0FE;\n",
              "      border: none;\n",
              "      border-radius: 50%;\n",
              "      cursor: pointer;\n",
              "      display: none;\n",
              "      fill: #1967D2;\n",
              "      height: 32px;\n",
              "      padding: 0 0 0 0;\n",
              "      width: 32px;\n",
              "    }\n",
              "\n",
              "    .colab-df-convert:hover {\n",
              "      background-color: #E2EBFA;\n",
              "      box-shadow: 0px 1px 2px rgba(60, 64, 67, 0.3), 0px 1px 3px 1px rgba(60, 64, 67, 0.15);\n",
              "      fill: #174EA6;\n",
              "    }\n",
              "\n",
              "    [theme=dark] .colab-df-convert {\n",
              "      background-color: #3B4455;\n",
              "      fill: #D2E3FC;\n",
              "    }\n",
              "\n",
              "    [theme=dark] .colab-df-convert:hover {\n",
              "      background-color: #434B5C;\n",
              "      box-shadow: 0px 1px 3px 1px rgba(0, 0, 0, 0.15);\n",
              "      filter: drop-shadow(0px 1px 2px rgba(0, 0, 0, 0.3));\n",
              "      fill: #FFFFFF;\n",
              "    }\n",
              "  </style>\n",
              "\n",
              "      <script>\n",
              "        const buttonEl =\n",
              "          document.querySelector('#df-da5e34ea-4b6b-4eb8-b22e-950edc29055f button.colab-df-convert');\n",
              "        buttonEl.style.display =\n",
              "          google.colab.kernel.accessAllowed ? 'block' : 'none';\n",
              "\n",
              "        async function convertToInteractive(key) {\n",
              "          const element = document.querySelector('#df-da5e34ea-4b6b-4eb8-b22e-950edc29055f');\n",
              "          const dataTable =\n",
              "            await google.colab.kernel.invokeFunction('convertToInteractive',\n",
              "                                                     [key], {});\n",
              "          if (!dataTable) return;\n",
              "\n",
              "          const docLinkHtml = 'Like what you see? Visit the ' +\n",
              "            '<a target=\"_blank\" href=https://colab.research.google.com/notebooks/data_table.ipynb>data table notebook</a>'\n",
              "            + ' to learn more about interactive tables.';\n",
              "          element.innerHTML = '';\n",
              "          dataTable['output_type'] = 'display_data';\n",
              "          await google.colab.output.renderOutput(dataTable, element);\n",
              "          const docLink = document.createElement('div');\n",
              "          docLink.innerHTML = docLinkHtml;\n",
              "          element.appendChild(docLink);\n",
              "        }\n",
              "      </script>\n",
              "    </div>\n",
              "  </div>\n",
              "  "
            ]
          },
          "metadata": {},
          "execution_count": 25
        }
      ]
    },
    {
      "cell_type": "code",
      "source": [
        "plt.figure(figsize=(16, 9))\n",
        "sns.lineplot(y=stock['Close'], x=stock.index)\n",
        "plt.xlabel('time')\n",
        "plt.ylabel('price')"
      ],
      "metadata": {
        "colab": {
          "base_uri": "https://localhost:8080/",
          "height": 569
        },
        "id": "pRwLe_VRxCiR",
        "outputId": "54c70962-3edf-42df-a9c0-c8c17e0145d8"
      },
      "execution_count": 26,
      "outputs": [
        {
          "output_type": "execute_result",
          "data": {
            "text/plain": [
              "Text(0, 0.5, 'price')"
            ]
          },
          "metadata": {},
          "execution_count": 26
        },
        {
          "output_type": "stream",
          "name": "stderr",
          "text": [
            "findfont: Font family ['NanumGothic'] not found. Falling back to DejaVu Sans.\n"
          ]
        },
        {
          "output_type": "display_data",
          "data": {
            "text/plain": [
              "<Figure size 1152x648 with 1 Axes>"
            ],
            "image/png": "[encoded data removed]"
          },
          "metadata": {
            "needs_background": "light"
          }
        }
      ]
    },
    {
      "cell_type": "code",
      "source": [
        "time_steps = [['1990', '2000'], \n",
        "              ['2000', '2010'], \n",
        "              ['2010', '2015'], \n",
        "              ['2015', '2020']]\n",
        "\n",
        "fig, axes = plt.subplots(2, 2)\n",
        "fig.set_size_inches(16, 9)\n",
        "for i in range(4):\n",
        "    ax = axes[i//2, i%2]\n",
        "    df = stock.loc[(stock.index > time_steps[i][0]) & (stock.index < time_steps[i][1])]\n",
        "    sns.lineplot(y=df['Close'], x=df.index, ax=ax) \n",
        "    ax.set_title(f'{time_steps[i][0]}~{time_steps[i][1]}')\n",
        "    ax.set_xlabel('time')\n",
        "    ax.set_ylabel('price')\n",
        "plt.tight_layout()\n",
        "plt.show()"
      ],
      "metadata": {
        "colab": {
          "base_uri": "https://localhost:8080/",
          "height": 675
        },
        "id": "g8DqNdjYxXnK",
        "outputId": "d3c47c84-c02d-4f70-c129-d3e9406ad964"
      },
      "execution_count": 27,
      "outputs": [
        {
          "output_type": "stream",
          "name": "stderr",
          "text": [
            "findfont: Font family ['NanumGothic'] not found. Falling back to DejaVu Sans.\n"
          ]
        },
        {
          "output_type": "display_data",
          "data": {
            "text/plain": [
              "<Figure size 1152x648 with 4 Axes>"
            ],
            "image/png": "[encoded data removed]"
          },
          "metadata": {
            "needs_background": "light"
          }
        }
      ]
    },
    {
      "cell_type": "code",
      "source": [
        "from sklearn.preprocessing import MinMaxScaler\n",
        "\n",
        "scaler = MinMaxScaler() \n",
        "\n",
        "\n",
        "scale_cols = ['Open', 'High', 'Low', 'Close', 'Volume']\n",
        "\n",
        "\n",
        "scaled = scaler.fit_transform(stock[scale_cols])\n",
        "scaled"
      ],
      "metadata": {
        "colab": {
          "base_uri": "https://localhost:8080/"
        },
        "id": "qfwZM2tIxhXP",
        "outputId": "666443af-91d1-4c26-83f2-6cee657f2d50"
      },
      "execution_count": 28,
      "outputs": [
        {
          "output_type": "execute_result",
          "data": {
            "text/plain": [
              "array([[5.50403661e-03, 5.48582750e-03, 5.52132813e-03, 5.50446671e-03,\n",
              "        9.14494742e-04],\n",
              "       [5.47278143e-03, 5.45467573e-03, 5.48997476e-03, 5.47320909e-03,\n",
              "        5.41644484e-04],\n",
              "       [4.56638131e-03, 4.55127426e-03, 4.58072708e-03, 4.56673814e-03,\n",
              "        5.09851051e-04],\n",
              "       ...,\n",
              "       [6.95393300e-01, 6.93759365e-01, 6.89068648e-01, 6.91346641e-01,\n",
              "        1.09584448e-01],\n",
              "       [6.93383592e-01, 6.96304465e-01, 6.91812068e-01, 6.94738092e-01,\n",
              "        3.96377398e-05],\n",
              "       [6.90870675e-01, 6.93491460e-01, 6.90307106e-01, 6.95735210e-01,\n",
              "        1.52666284e-05]])"
            ]
          },
          "metadata": {},
          "execution_count": 28
        }
      ]
    },
    {
      "cell_type": "code",
      "source": [
        "df = pd.DataFrame(scaled, columns=scale_cols)\n",
        "df.info()"
      ],
      "metadata": {
        "colab": {
          "base_uri": "https://localhost:8080/"
        },
        "id": "dWkZeLwXxprf",
        "outputId": "da9b7096-be85-4850-c4c1-ef65c385a85a"
      },
      "execution_count": 29,
      "outputs": [
        {
          "output_type": "stream",
          "name": "stdout",
          "text": [
            "<class 'pandas.core.frame.DataFrame'>\n",
            "RangeIndex: 10991 entries, 0 to 10990\n",
            "Data columns (total 5 columns):\n",
            " #   Column  Non-Null Count  Dtype  \n",
            "---  ------  --------------  -----  \n",
            " 0   Open    10991 non-null  float64\n",
            " 1   High    10991 non-null  float64\n",
            " 2   Low     10991 non-null  float64\n",
            " 3   Close   10991 non-null  float64\n",
            " 4   Volume  10991 non-null  float64\n",
            "dtypes: float64(5)\n",
            "memory usage: 429.5 KB\n"
          ]
        }
      ]
    },
    {
      "cell_type": "code",
      "source": [
        "from sklearn.model_selection import train_test_split"
      ],
      "metadata": {
        "id": "jzYhwJVDxvSv"
      },
      "execution_count": 30,
      "outputs": []
    },
    {
      "cell_type": "code",
      "source": [
        "x_train, x_test, y_train, y_test = train_test_split(df.drop('Close', 1), df['Close'], test_size=0.2, random_state=0, shuffle=False)"
      ],
      "metadata": {
        "id": "KfhKTjUuxxFB"
      },
      "execution_count": 31,
      "outputs": []
    },
    {
      "cell_type": "code",
      "source": [
        "x_train.shape, y_train.shape"
      ],
      "metadata": {
        "colab": {
          "base_uri": "https://localhost:8080/"
        },
        "id": "natmHWiwx06B",
        "outputId": "ba7a287b-fa0b-4cbf-8839-f5ab9dc7c74e"
      },
      "execution_count": 32,
      "outputs": [
        {
          "output_type": "execute_result",
          "data": {
            "text/plain": [
              "((8792, 4), (8792,))"
            ]
          },
          "metadata": {},
          "execution_count": 32
        }
      ]
    },
    {
      "cell_type": "code",
      "source": [
        "x_test.shape, y_test.shape"
      ],
      "metadata": {
        "colab": {
          "base_uri": "https://localhost:8080/"
        },
        "id": "4sUdRwLEx3Pv",
        "outputId": "a883f802-3c31-461d-d7da-87b2753f49d6"
      },
      "execution_count": 33,
      "outputs": [
        {
          "output_type": "execute_result",
          "data": {
            "text/plain": [
              "((2199, 4), (2199,))"
            ]
          },
          "metadata": {},
          "execution_count": 33
        }
      ]
    },
    {
      "cell_type": "code",
      "source": [
        "x_train"
      ],
      "metadata": {
        "colab": {
          "base_uri": "https://localhost:8080/",
          "height": 424
        },
        "id": "UWVOfMu9x9dP",
        "outputId": "89516146-3391-4bf0-c843-702f03161e9d"
      },
      "execution_count": 34,
      "outputs": [
        {
          "output_type": "execute_result",
          "data": {
            "text/plain": [
              "          Open      High       Low    Volume\n",
              "0     0.005504  0.005486  0.005521  0.000914\n",
              "1     0.005473  0.005455  0.005490  0.000542\n",
              "2     0.004566  0.004551  0.004581  0.000510\n",
              "3     0.004598  0.004582  0.004612  0.000440\n",
              "4     0.004160  0.004146  0.004173  0.000380\n",
              "...        ...       ...       ...       ...\n",
              "8787  0.563428  0.562782  0.562175  0.097526\n",
              "8788  0.561309  0.564196  0.562652  0.105992\n",
              "8789  0.565556  0.565283  0.565875  0.110980\n",
              "8790  0.565897  0.566754  0.564596  0.097084\n",
              "8791  0.572054  0.571102  0.569060  0.086127\n",
              "\n",
              "[8792 rows x 4 columns]"
            ],
            "text/html": [
              "\n",
              "  <div id=\"df-c4f385f6-23b2-458f-a39f-6f5fbf7da5d9\">\n",
              "    <div class=\"colab-df-container\">\n",
              "      <div>\n",
              "<style scoped>\n",
              "    .dataframe tbody tr th:only-of-type {\n",
              "        vertical-align: middle;\n",
              "    }\n",
              "\n",
              "    .dataframe tbody tr th {\n",
              "        vertical-align: top;\n",
              "    }\n",
              "\n",
              "    .dataframe thead th {\n",
              "        text-align: right;\n",
              "    }\n",
              "</style>\n",
              "<table border=\"1\" class=\"dataframe\">\n",
              "  <thead>\n",
              "    <tr style=\"text-align: right;\">\n",
              "      <th></th>\n",
              "      <th>Open</th>\n",
              "      <th>High</th>\n",
              "      <th>Low</th>\n",
              "      <th>Volume</th>\n",
              "    </tr>\n",
              "  </thead>\n",
              "  <tbody>\n",
              "    <tr>\n",
              "      <th>0</th>\n",
              "      <td>0.005504</td>\n",
              "      <td>0.005486</td>\n",
              "      <td>0.005521</td>\n",
              "      <td>0.000914</td>\n",
              "    </tr>\n",
              "    <tr>\n",
              "      <th>1</th>\n",
              "      <td>0.005473</td>\n",
              "      <td>0.005455</td>\n",
              "      <td>0.005490</td>\n",
              "      <td>0.000542</td>\n",
              "    </tr>\n",
              "    <tr>\n",
              "      <th>2</th>\n",
              "      <td>0.004566</td>\n",
              "      <td>0.004551</td>\n",
              "      <td>0.004581</td>\n",
              "      <td>0.000510</td>\n",
              "    </tr>\n",
              "    <tr>\n",
              "      <th>3</th>\n",
              "      <td>0.004598</td>\n",
              "      <td>0.004582</td>\n",
              "      <td>0.004612</td>\n",
              "      <td>0.000440</td>\n",
              "    </tr>\n",
              "    <tr>\n",
              "      <th>4</th>\n",
              "      <td>0.004160</td>\n",
              "      <td>0.004146</td>\n",
              "      <td>0.004173</td>\n",
              "      <td>0.000380</td>\n",
              "    </tr>\n",
              "    <tr>\n",
              "      <th>...</th>\n",
              "      <td>...</td>\n",
              "      <td>...</td>\n",
              "      <td>...</td>\n",
              "      <td>...</td>\n",
              "    </tr>\n",
              "    <tr>\n",
              "      <th>8787</th>\n",
              "      <td>0.563428</td>\n",
              "      <td>0.562782</td>\n",
              "      <td>0.562175</td>\n",
              "      <td>0.097526</td>\n",
              "    </tr>\n",
              "    <tr>\n",
              "      <th>8788</th>\n",
              "      <td>0.561309</td>\n",
              "      <td>0.564196</td>\n",
              "      <td>0.562652</td>\n",
              "      <td>0.105992</td>\n",
              "    </tr>\n",
              "    <tr>\n",
              "      <th>8789</th>\n",
              "      <td>0.565556</td>\n",
              "      <td>0.565283</td>\n",
              "      <td>0.565875</td>\n",
              "      <td>0.110980</td>\n",
              "    </tr>\n",
              "    <tr>\n",
              "      <th>8790</th>\n",
              "      <td>0.565897</td>\n",
              "      <td>0.566754</td>\n",
              "      <td>0.564596</td>\n",
              "      <td>0.097084</td>\n",
              "    </tr>\n",
              "    <tr>\n",
              "      <th>8791</th>\n",
              "      <td>0.572054</td>\n",
              "      <td>0.571102</td>\n",
              "      <td>0.569060</td>\n",
              "      <td>0.086127</td>\n",
              "    </tr>\n",
              "  </tbody>\n",
              "</table>\n",
              "<p>8792 rows × 4 columns</p>\n",
              "</div>\n",
              "      <button class=\"colab-df-convert\" onclick=\"convertToInteractive('df-c4f385f6-23b2-458f-a39f-6f5fbf7da5d9')\"\n",
              "              title=\"Convert this dataframe to an interactive table.\"\n",
              "              style=\"display:none;\">\n",
              "        \n",
              "  <svg xmlns=\"http://www.w3.org/2000/svg\" height=\"24px\"viewBox=\"0 0 24 24\"\n",
              "       width=\"24px\">\n",
              "    <path d=\"M0 0h24v24H0V0z\" fill=\"none\"/>\n",
              "    <path d=\"M18.56 5.44l.94 2.06.94-2.06 2.06-.94-2.06-.94-.94-2.06-.94 2.06-2.06.94zm-11 1L8.5 8.5l.94-2.06 2.06-.94-2.06-.94L8.5 2.5l-.94 2.06-2.06.94zm10 10l.94 2.06.94-2.06 2.06-.94-2.06-.94-.94-2.06-.94 2.06-2.06.94z\"/><path d=\"M17.41 7.96l-1.37-1.37c-.4-.4-.92-.59-1.43-.59-.52 0-1.04.2-1.43.59L10.3 9.45l-7.72 7.72c-.78.78-.78 2.05 0 2.83L4 21.41c.39.39.9.59 1.41.59.51 0 1.02-.2 1.41-.59l7.78-7.78 2.81-2.81c.8-.78.8-2.07 0-2.86zM5.41 20L4 18.59l7.72-7.72 1.47 1.35L5.41 20z\"/>\n",
              "  </svg>\n",
              "      </button>\n",
              "      \n",
              "  <style>\n",
              "    .colab-df-container {\n",
              "      display:flex;\n",
              "      flex-wrap:wrap;\n",
              "      gap: 12px;\n",
              "    }\n",
              "\n",
              "    .colab-df-convert {\n",
              "      background-color: #E8F0FE;\n",
              "      border: none;\n",
              "      border-radius: 50%;\n",
              "      cursor: pointer;\n",
              "      display: none;\n",
              "      fill: #1967D2;\n",
              "      height: 32px;\n",
              "      padding: 0 0 0 0;\n",
              "      width: 32px;\n",
              "    }\n",
              "\n",
              "    .colab-df-convert:hover {\n",
              "      background-color: #E2EBFA;\n",
              "      box-shadow: 0px 1px 2px rgba(60, 64, 67, 0.3), 0px 1px 3px 1px rgba(60, 64, 67, 0.15);\n",
              "      fill: #174EA6;\n",
              "    }\n",
              "\n",
              "    [theme=dark] .colab-df-convert {\n",
              "      background-color: #3B4455;\n",
              "      fill: #D2E3FC;\n",
              "    }\n",
              "\n",
              "    [theme=dark] .colab-df-convert:hover {\n",
              "      background-color: #434B5C;\n",
              "      box-shadow: 0px 1px 3px 1px rgba(0, 0, 0, 0.15);\n",
              "      filter: drop-shadow(0px 1px 2px rgba(0, 0, 0, 0.3));\n",
              "      fill: #FFFFFF;\n",
              "    }\n",
              "  </style>\n",
              "\n",
              "      <script>\n",
              "        const buttonEl =\n",
              "          document.querySelector('#df-c4f385f6-23b2-458f-a39f-6f5fbf7da5d9 button.colab-df-convert');\n",
              "        buttonEl.style.display =\n",
              "          google.colab.kernel.accessAllowed ? 'block' : 'none';\n",
              "\n",
              "        async function convertToInteractive(key) {\n",
              "          const element = document.querySelector('#df-c4f385f6-23b2-458f-a39f-6f5fbf7da5d9');\n",
              "          const dataTable =\n",
              "            await google.colab.kernel.invokeFunction('convertToInteractive',\n",
              "                                                     [key], {});\n",
              "          if (!dataTable) return;\n",
              "\n",
              "          const docLinkHtml = 'Like what you see? Visit the ' +\n",
              "            '<a target=\"_blank\" href=https://colab.research.google.com/notebooks/data_table.ipynb>data table notebook</a>'\n",
              "            + ' to learn more about interactive tables.';\n",
              "          element.innerHTML = '';\n",
              "          dataTable['output_type'] = 'display_data';\n",
              "          await google.colab.output.renderOutput(dataTable, element);\n",
              "          const docLink = document.createElement('div');\n",
              "          docLink.innerHTML = docLinkHtml;\n",
              "          element.appendChild(docLink);\n",
              "        }\n",
              "      </script>\n",
              "    </div>\n",
              "  </div>\n",
              "  "
            ]
          },
          "metadata": {},
          "execution_count": 34
        }
      ]
    },
    {
      "cell_type": "code",
      "source": [
        "import tensorflow as tf"
      ],
      "metadata": {
        "id": "s4HkrrNPyBnf"
      },
      "execution_count": 35,
      "outputs": []
    },
    {
      "cell_type": "code",
      "source": [
        "def windowed_dataset(series, window_size, batch_size, shuffle):\n",
        "    series = tf.expand_dims(series, axis=-1)\n",
        "    ds = tf.data.Dataset.from_tensor_slices(series)\n",
        "    ds = ds.window(window_size + 1, shift=1, drop_remainder=True)\n",
        "    ds = ds.flat_map(lambda w: w.batch(window_size + 1))\n",
        "    if shuffle:\n",
        "        ds = ds.shuffle(1000)\n",
        "    ds = ds.map(lambda w: (w[:-1], w[-1]))\n",
        "    return ds.batch(batch_size).prefetch(1)"
      ],
      "metadata": {
        "id": "UYc2HajkyF__"
      },
      "execution_count": 36,
      "outputs": []
    },
    {
      "cell_type": "code",
      "source": [
        "WINDOW_SIZE=20\n",
        "BATCH_SIZE=32"
      ],
      "metadata": {
        "id": "e6TWAXyqyK8n"
      },
      "execution_count": 37,
      "outputs": []
    },
    {
      "cell_type": "code",
      "source": [
        "train_data = windowed_dataset(y_train, WINDOW_SIZE, BATCH_SIZE, True)\n",
        "test_data = windowed_dataset(y_test, WINDOW_SIZE, BATCH_SIZE, False)"
      ],
      "metadata": {
        "id": "QMvdQKHayQWv"
      },
      "execution_count": 38,
      "outputs": []
    },
    {
      "cell_type": "code",
      "source": [
        "for data in train_data.take(1):\n",
        "    print(f'데이터셋(X) 구성(batch_size, window_size, feature갯수): {data[0].shape}')\n",
        "    print(f'데이터셋(Y) 구성(batch_size, window_size, feature갯수): {data[1].shape}')"
      ],
      "metadata": {
        "colab": {
          "base_uri": "https://localhost:8080/"
        },
        "id": "2i1OximzyUOo",
        "outputId": "db6e2f29-036a-4ede-a202-ab119a637978"
      },
      "execution_count": 39,
      "outputs": [
        {
          "output_type": "stream",
          "name": "stdout",
          "text": [
            "데이터셋(X) 구성(batch_size, window_size, feature갯수): (32, 20, 1)\n",
            "데이터셋(Y) 구성(batch_size, window_size, feature갯수): (32, 1)\n"
          ]
        }
      ]
    },
    {
      "cell_type": "code",
      "source": [
        "from tensorflow.keras.models import Sequential\n",
        "from tensorflow.keras.layers import Dense, LSTM, Conv1D, Lambda\n",
        "from tensorflow.keras.losses import Huber\n",
        "from tensorflow.keras.optimizers import Adam\n",
        "from tensorflow.keras.callbacks import EarlyStopping, ModelCheckpoint\n",
        "\n",
        "\n",
        "model = Sequential([\n",
        "    \n",
        "    Conv1D(filters=32, kernel_size=5,\n",
        "           padding=\"causal\",\n",
        "           activation=\"relu\",\n",
        "           input_shape=[WINDOW_SIZE, 1]),\n",
        "    \n",
        "    LSTM(16, activation='tanh'),\n",
        "    Dense(16, activation=\"relu\"),\n",
        "    Dense(1),\n",
        "])"
      ],
      "metadata": {
        "id": "wKChbPHuyYwY"
      },
      "execution_count": 40,
      "outputs": []
    },
    {
      "cell_type": "code",
      "source": [
        "loss = Huber()\n",
        "optimizer = Adam(0.0005)\n",
        "model.compile(loss=Huber(), optimizer=optimizer, metrics=['mse'])"
      ],
      "metadata": {
        "id": "kgghLu4kygqO"
      },
      "execution_count": 41,
      "outputs": []
    },
    {
      "cell_type": "code",
      "source": [
        "earlystopping = EarlyStopping(monitor='val_loss', patience=10)\n",
        "\n",
        "filename = os.path.join('tmp', 'ckeckpointer.ckpt')\n",
        "checkpoint = ModelCheckpoint(filename, \n",
        "                             save_weights_only=True, \n",
        "                             save_best_only=True, \n",
        "                             monitor='val_loss', \n",
        "                             verbose=1)"
      ],
      "metadata": {
        "id": "vcYLYHUWykte"
      },
      "execution_count": 42,
      "outputs": []
    },
    {
      "cell_type": "code",
      "source": [
        "history = model.fit(train_data, \n",
        "                    validation_data=(test_data), \n",
        "                    epochs=50, \n",
        "                    callbacks=[checkpoint, earlystopping])"
      ],
      "metadata": {
        "colab": {
          "base_uri": "https://localhost:8080/"
        },
        "id": "nZhMpc-dyrdA",
        "outputId": "7dbc2c9f-1c24-46ff-d85d-d3a02d8d7278"
      },
      "execution_count": 43,
      "outputs": [
        {
          "output_type": "stream",
          "name": "stdout",
          "text": [
            "Epoch 1/50\n",
            "    270/Unknown - 6s 13ms/step - loss: 8.7147e-05 - mse: 1.7429e-04\n",
            "Epoch 1: val_loss improved from inf to 0.00087, saving model to tmp/ckeckpointer.ckpt\n",
            "275/275 [==============================] - 8s 18ms/step - loss: 8.8761e-05 - mse: 1.7752e-04 - val_loss: 8.7400e-04 - val_mse: 0.0017\n",
            "Epoch 2/50\n",
            "273/275 [============================>.] - ETA: 0s - loss: 4.3943e-05 - mse: 8.7885e-05\n",
            "Epoch 2: val_loss improved from 0.00087 to 0.00047, saving model to tmp/ckeckpointer.ckpt\n",
            "275/275 [==============================] - 4s 15ms/step - loss: 4.4099e-05 - mse: 8.8198e-05 - val_loss: 4.6888e-04 - val_mse: 9.3776e-04\n",
            "Epoch 3/50\n",
            "274/275 [============================>.] - ETA: 0s - loss: 4.2629e-05 - mse: 8.5258e-05\n",
            "Epoch 3: val_loss improved from 0.00047 to 0.00035, saving model to tmp/ckeckpointer.ckpt\n",
            "275/275 [==============================] - 5s 18ms/step - loss: 4.2612e-05 - mse: 8.5223e-05 - val_loss: 3.5231e-04 - val_mse: 7.0463e-04\n",
            "Epoch 4/50\n",
            "274/275 [============================>.] - ETA: 0s - loss: 3.8374e-05 - mse: 7.6748e-05\n",
            "Epoch 4: val_loss improved from 0.00035 to 0.00018, saving model to tmp/ckeckpointer.ckpt\n",
            "275/275 [==============================] - 5s 16ms/step - loss: 3.8419e-05 - mse: 7.6838e-05 - val_loss: 1.8033e-04 - val_mse: 3.6066e-04\n",
            "Epoch 5/50\n",
            "274/275 [============================>.] - ETA: 0s - loss: 3.2883e-05 - mse: 6.5766e-05\n",
            "Epoch 5: val_loss did not improve from 0.00018\n",
            "275/275 [==============================] - 5s 17ms/step - loss: 3.2948e-05 - mse: 6.5896e-05 - val_loss: 2.7370e-04 - val_mse: 5.4739e-04\n",
            "Epoch 6/50\n",
            "275/275 [==============================] - ETA: 0s - loss: 3.2018e-05 - mse: 6.4035e-05\n",
            "Epoch 6: val_loss did not improve from 0.00018\n",
            "275/275 [==============================] - 4s 15ms/step - loss: 3.2018e-05 - mse: 6.4035e-05 - val_loss: 1.8922e-04 - val_mse: 3.7845e-04\n",
            "Epoch 7/50\n",
            "272/275 [============================>.] - ETA: 0s - loss: 2.8079e-05 - mse: 5.6157e-05\n",
            "Epoch 7: val_loss improved from 0.00018 to 0.00013, saving model to tmp/ckeckpointer.ckpt\n",
            "275/275 [==============================] - 4s 15ms/step - loss: 2.8084e-05 - mse: 5.6168e-05 - val_loss: 1.2672e-04 - val_mse: 2.5344e-04\n",
            "Epoch 8/50\n",
            "274/275 [============================>.] - ETA: 0s - loss: 2.4285e-05 - mse: 4.8571e-05\n",
            "Epoch 8: val_loss did not improve from 0.00013\n",
            "275/275 [==============================] - 4s 15ms/step - loss: 2.4316e-05 - mse: 4.8632e-05 - val_loss: 1.5498e-04 - val_mse: 3.0997e-04\n",
            "Epoch 9/50\n",
            "271/275 [============================>.] - ETA: 0s - loss: 2.3504e-05 - mse: 4.7008e-05\n",
            "Epoch 9: val_loss did not improve from 0.00013\n",
            "275/275 [==============================] - 4s 15ms/step - loss: 2.4028e-05 - mse: 4.8057e-05 - val_loss: 1.3776e-04 - val_mse: 2.7552e-04\n",
            "Epoch 10/50\n",
            "271/275 [============================>.] - ETA: 0s - loss: 2.2835e-05 - mse: 4.5670e-05\n",
            "Epoch 10: val_loss improved from 0.00013 to 0.00008, saving model to tmp/ckeckpointer.ckpt\n",
            "275/275 [==============================] - 5s 17ms/step - loss: 2.3052e-05 - mse: 4.6103e-05 - val_loss: 7.6316e-05 - val_mse: 1.5263e-04\n",
            "Epoch 11/50\n",
            "274/275 [============================>.] - ETA: 0s - loss: 2.6691e-05 - mse: 5.3382e-05\n",
            "Epoch 11: val_loss did not improve from 0.00008\n",
            "275/275 [==============================] - 4s 15ms/step - loss: 2.6691e-05 - mse: 5.3382e-05 - val_loss: 9.5647e-05 - val_mse: 1.9129e-04\n",
            "Epoch 12/50\n",
            "273/275 [============================>.] - ETA: 0s - loss: 2.1290e-05 - mse: 4.2580e-05\n",
            "Epoch 12: val_loss did not improve from 0.00008\n",
            "275/275 [==============================] - 4s 16ms/step - loss: 2.1445e-05 - mse: 4.2890e-05 - val_loss: 1.2919e-04 - val_mse: 2.5838e-04\n",
            "Epoch 13/50\n",
            "275/275 [==============================] - ETA: 0s - loss: 1.9745e-05 - mse: 3.9489e-05\n",
            "Epoch 13: val_loss did not improve from 0.00008\n",
            "275/275 [==============================] - 4s 16ms/step - loss: 1.9745e-05 - mse: 3.9489e-05 - val_loss: 3.1167e-04 - val_mse: 6.2334e-04\n",
            "Epoch 14/50\n",
            "271/275 [============================>.] - ETA: 0s - loss: 2.0455e-05 - mse: 4.0910e-05\n",
            "Epoch 14: val_loss did not improve from 0.00008\n",
            "275/275 [==============================] - 4s 15ms/step - loss: 2.0571e-05 - mse: 4.1143e-05 - val_loss: 8.4850e-05 - val_mse: 1.6970e-04\n",
            "Epoch 15/50\n",
            "273/275 [============================>.] - ETA: 0s - loss: 1.9007e-05 - mse: 3.8014e-05\n",
            "Epoch 15: val_loss improved from 0.00008 to 0.00007, saving model to tmp/ckeckpointer.ckpt\n",
            "275/275 [==============================] - 4s 16ms/step - loss: 1.9042e-05 - mse: 3.8085e-05 - val_loss: 6.8974e-05 - val_mse: 1.3795e-04\n",
            "Epoch 16/50\n",
            "272/275 [============================>.] - ETA: 0s - loss: 1.8531e-05 - mse: 3.7062e-05\n",
            "Epoch 16: val_loss did not improve from 0.00007\n",
            "275/275 [==============================] - 4s 15ms/step - loss: 1.8715e-05 - mse: 3.7429e-05 - val_loss: 9.0132e-05 - val_mse: 1.8026e-04\n",
            "Epoch 17/50\n",
            "275/275 [==============================] - ETA: 0s - loss: 1.7251e-05 - mse: 3.4503e-05\n",
            "Epoch 17: val_loss improved from 0.00007 to 0.00007, saving model to tmp/ckeckpointer.ckpt\n",
            "275/275 [==============================] - 4s 15ms/step - loss: 1.7251e-05 - mse: 3.4503e-05 - val_loss: 6.7641e-05 - val_mse: 1.3528e-04\n",
            "Epoch 18/50\n",
            "273/275 [============================>.] - ETA: 0s - loss: 1.6481e-05 - mse: 3.2962e-05\n",
            "Epoch 18: val_loss did not improve from 0.00007\n",
            "275/275 [==============================] - 4s 15ms/step - loss: 1.6646e-05 - mse: 3.3293e-05 - val_loss: 2.9807e-04 - val_mse: 5.9615e-04\n",
            "Epoch 19/50\n",
            "274/275 [============================>.] - ETA: 0s - loss: 1.7706e-05 - mse: 3.5412e-05\n",
            "Epoch 19: val_loss did not improve from 0.00007\n",
            "275/275 [==============================] - 4s 16ms/step - loss: 1.7727e-05 - mse: 3.5455e-05 - val_loss: 7.5175e-05 - val_mse: 1.5035e-04\n",
            "Epoch 20/50\n",
            "271/275 [============================>.] - ETA: 0s - loss: 1.7184e-05 - mse: 3.4369e-05\n",
            "Epoch 20: val_loss improved from 0.00007 to 0.00007, saving model to tmp/ckeckpointer.ckpt\n",
            "275/275 [==============================] - 4s 15ms/step - loss: 1.7456e-05 - mse: 3.4913e-05 - val_loss: 6.6624e-05 - val_mse: 1.3325e-04\n",
            "Epoch 21/50\n",
            "274/275 [============================>.] - ETA: 0s - loss: 1.9576e-05 - mse: 3.9151e-05\n",
            "Epoch 21: val_loss did not improve from 0.00007\n",
            "275/275 [==============================] - 4s 15ms/step - loss: 1.9669e-05 - mse: 3.9339e-05 - val_loss: 6.9802e-05 - val_mse: 1.3960e-04\n",
            "Epoch 22/50\n",
            "273/275 [============================>.] - ETA: 0s - loss: 1.6547e-05 - mse: 3.3093e-05\n",
            "Epoch 22: val_loss did not improve from 0.00007\n",
            "275/275 [==============================] - 4s 16ms/step - loss: 1.6619e-05 - mse: 3.3238e-05 - val_loss: 1.4632e-04 - val_mse: 2.9264e-04\n",
            "Epoch 23/50\n",
            "271/275 [============================>.] - ETA: 0s - loss: 1.7447e-05 - mse: 3.4894e-05\n",
            "Epoch 23: val_loss did not improve from 0.00007\n",
            "275/275 [==============================] - 4s 15ms/step - loss: 1.7684e-05 - mse: 3.5368e-05 - val_loss: 2.4030e-04 - val_mse: 4.8059e-04\n",
            "Epoch 24/50\n",
            "270/275 [============================>.] - ETA: 0s - loss: 1.5885e-05 - mse: 3.1770e-05\n",
            "Epoch 24: val_loss did not improve from 0.00007\n",
            "275/275 [==============================] - 4s 15ms/step - loss: 1.6293e-05 - mse: 3.2586e-05 - val_loss: 1.2896e-04 - val_mse: 2.5791e-04\n",
            "Epoch 25/50\n",
            "270/275 [============================>.] - ETA: 0s - loss: 1.5988e-05 - mse: 3.1976e-05\n",
            "Epoch 25: val_loss did not improve from 0.00007\n",
            "275/275 [==============================] - 4s 16ms/step - loss: 1.6208e-05 - mse: 3.2417e-05 - val_loss: 7.7711e-05 - val_mse: 1.5542e-04\n",
            "Epoch 26/50\n",
            "271/275 [============================>.] - ETA: 0s - loss: 1.5330e-05 - mse: 3.0659e-05\n",
            "Epoch 26: val_loss did not improve from 0.00007\n",
            "275/275 [==============================] - 4s 15ms/step - loss: 1.5564e-05 - mse: 3.1127e-05 - val_loss: 2.9615e-04 - val_mse: 5.9230e-04\n",
            "Epoch 27/50\n",
            "274/275 [============================>.] - ETA: 0s - loss: 1.5940e-05 - mse: 3.1880e-05\n",
            "Epoch 27: val_loss did not improve from 0.00007\n",
            "275/275 [==============================] - 4s 15ms/step - loss: 1.5950e-05 - mse: 3.1900e-05 - val_loss: 7.4871e-05 - val_mse: 1.4974e-04\n",
            "Epoch 28/50\n",
            "273/275 [============================>.] - ETA: 0s - loss: 1.4813e-05 - mse: 2.9626e-05\n",
            "Epoch 28: val_loss did not improve from 0.00007\n",
            "275/275 [==============================] - 4s 15ms/step - loss: 1.4936e-05 - mse: 2.9871e-05 - val_loss: 9.3502e-05 - val_mse: 1.8700e-04\n",
            "Epoch 29/50\n",
            "274/275 [============================>.] - ETA: 0s - loss: 1.7119e-05 - mse: 3.4238e-05\n",
            "Epoch 29: val_loss improved from 0.00007 to 0.00007, saving model to tmp/ckeckpointer.ckpt\n",
            "275/275 [==============================] - 4s 15ms/step - loss: 1.7122e-05 - mse: 3.4244e-05 - val_loss: 6.5878e-05 - val_mse: 1.3176e-04\n",
            "Epoch 30/50\n",
            "272/275 [============================>.] - ETA: 0s - loss: 1.4823e-05 - mse: 2.9647e-05\n",
            "Epoch 30: val_loss did not improve from 0.00007\n",
            "275/275 [==============================] - 4s 15ms/step - loss: 1.4895e-05 - mse: 2.9790e-05 - val_loss: 1.1610e-04 - val_mse: 2.3219e-04\n",
            "Epoch 31/50\n",
            "275/275 [==============================] - ETA: 0s - loss: 1.5222e-05 - mse: 3.0443e-05\n",
            "Epoch 31: val_loss did not improve from 0.00007\n",
            "275/275 [==============================] - 4s 15ms/step - loss: 1.5222e-05 - mse: 3.0443e-05 - val_loss: 1.3464e-04 - val_mse: 2.6928e-04\n",
            "Epoch 32/50\n",
            "272/275 [============================>.] - ETA: 0s - loss: 1.5055e-05 - mse: 3.0111e-05\n",
            "Epoch 32: val_loss did not improve from 0.00007\n",
            "275/275 [==============================] - 4s 15ms/step - loss: 1.5105e-05 - mse: 3.0210e-05 - val_loss: 9.4972e-05 - val_mse: 1.8994e-04\n",
            "Epoch 33/50\n",
            "271/275 [============================>.] - ETA: 0s - loss: 1.3500e-05 - mse: 2.7000e-05\n",
            "Epoch 33: val_loss did not improve from 0.00007\n",
            "275/275 [==============================] - 4s 15ms/step - loss: 1.3691e-05 - mse: 2.7383e-05 - val_loss: 7.5617e-05 - val_mse: 1.5123e-04\n",
            "Epoch 34/50\n",
            "273/275 [============================>.] - ETA: 0s - loss: 1.6096e-05 - mse: 3.2191e-05\n",
            "Epoch 34: val_loss did not improve from 0.00007\n",
            "275/275 [==============================] - 4s 15ms/step - loss: 1.6206e-05 - mse: 3.2412e-05 - val_loss: 1.1418e-04 - val_mse: 2.2836e-04\n",
            "Epoch 35/50\n",
            "274/275 [============================>.] - ETA: 0s - loss: 1.7040e-05 - mse: 3.4081e-05\n",
            "Epoch 35: val_loss did not improve from 0.00007\n",
            "275/275 [==============================] - 4s 15ms/step - loss: 1.7062e-05 - mse: 3.4123e-05 - val_loss: 9.9895e-05 - val_mse: 1.9979e-04\n",
            "Epoch 36/50\n",
            "273/275 [============================>.] - ETA: 0s - loss: 1.3677e-05 - mse: 2.7353e-05\n",
            "Epoch 36: val_loss improved from 0.00007 to 0.00006, saving model to tmp/ckeckpointer.ckpt\n",
            "275/275 [==============================] - 4s 15ms/step - loss: 1.3732e-05 - mse: 2.7463e-05 - val_loss: 6.1898e-05 - val_mse: 1.2380e-04\n",
            "Epoch 37/50\n",
            "275/275 [==============================] - ETA: 0s - loss: 1.4142e-05 - mse: 2.8283e-05\n",
            "Epoch 37: val_loss did not improve from 0.00006\n",
            "275/275 [==============================] - 6s 21ms/step - loss: 1.4142e-05 - mse: 2.8283e-05 - val_loss: 8.1366e-05 - val_mse: 1.6273e-04\n",
            "Epoch 38/50\n",
            "274/275 [============================>.] - ETA: 0s - loss: 1.3468e-05 - mse: 2.6935e-05\n",
            "Epoch 38: val_loss did not improve from 0.00006\n",
            "275/275 [==============================] - 4s 16ms/step - loss: 1.3465e-05 - mse: 2.6930e-05 - val_loss: 1.2259e-04 - val_mse: 2.4518e-04\n",
            "Epoch 39/50\n",
            "273/275 [============================>.] - ETA: 0s - loss: 1.3730e-05 - mse: 2.7459e-05\n",
            "Epoch 39: val_loss did not improve from 0.00006\n",
            "275/275 [==============================] - 4s 15ms/step - loss: 1.3745e-05 - mse: 2.7490e-05 - val_loss: 1.2791e-04 - val_mse: 2.5581e-04\n",
            "Epoch 40/50\n",
            "273/275 [============================>.] - ETA: 0s - loss: 1.3305e-05 - mse: 2.6609e-05\n",
            "Epoch 40: val_loss did not improve from 0.00006\n",
            "275/275 [==============================] - 4s 15ms/step - loss: 1.3391e-05 - mse: 2.6783e-05 - val_loss: 1.2626e-04 - val_mse: 2.5253e-04\n",
            "Epoch 41/50\n",
            "272/275 [============================>.] - ETA: 0s - loss: 1.3164e-05 - mse: 2.6328e-05\n",
            "Epoch 41: val_loss did not improve from 0.00006\n",
            "275/275 [==============================] - 4s 15ms/step - loss: 1.3185e-05 - mse: 2.6369e-05 - val_loss: 1.0591e-04 - val_mse: 2.1183e-04\n",
            "Epoch 42/50\n",
            "274/275 [============================>.] - ETA: 0s - loss: 1.3636e-05 - mse: 2.7272e-05\n",
            "Epoch 42: val_loss did not improve from 0.00006\n",
            "275/275 [==============================] - 4s 15ms/step - loss: 1.3635e-05 - mse: 2.7269e-05 - val_loss: 9.4572e-05 - val_mse: 1.8914e-04\n",
            "Epoch 43/50\n",
            "272/275 [============================>.] - ETA: 0s - loss: 1.2709e-05 - mse: 2.5418e-05\n",
            "Epoch 43: val_loss did not improve from 0.00006\n",
            "275/275 [==============================] - 4s 16ms/step - loss: 1.2834e-05 - mse: 2.5668e-05 - val_loss: 1.7257e-04 - val_mse: 3.4514e-04\n",
            "Epoch 44/50\n",
            "273/275 [============================>.] - ETA: 0s - loss: 1.3292e-05 - mse: 2.6585e-05\n",
            "Epoch 44: val_loss improved from 0.00006 to 0.00006, saving model to tmp/ckeckpointer.ckpt\n",
            "275/275 [==============================] - 4s 15ms/step - loss: 1.3292e-05 - mse: 2.6585e-05 - val_loss: 5.9562e-05 - val_mse: 1.1912e-04\n",
            "Epoch 45/50\n",
            "271/275 [============================>.] - ETA: 0s - loss: 1.2236e-05 - mse: 2.4473e-05\n",
            "Epoch 45: val_loss did not improve from 0.00006\n",
            "275/275 [==============================] - 4s 16ms/step - loss: 1.2435e-05 - mse: 2.4869e-05 - val_loss: 8.9554e-05 - val_mse: 1.7911e-04\n",
            "Epoch 46/50\n",
            "275/275 [==============================] - ETA: 0s - loss: 1.3250e-05 - mse: 2.6501e-05\n",
            "Epoch 46: val_loss did not improve from 0.00006\n",
            "275/275 [==============================] - 4s 15ms/step - loss: 1.3250e-05 - mse: 2.6501e-05 - val_loss: 9.5672e-05 - val_mse: 1.9134e-04\n",
            "Epoch 47/50\n",
            "275/275 [==============================] - ETA: 0s - loss: 1.2496e-05 - mse: 2.4992e-05\n",
            "Epoch 47: val_loss did not improve from 0.00006\n",
            "275/275 [==============================] - 4s 15ms/step - loss: 1.2496e-05 - mse: 2.4992e-05 - val_loss: 8.5630e-05 - val_mse: 1.7126e-04\n",
            "Epoch 48/50\n",
            "274/275 [============================>.] - ETA: 0s - loss: 1.3128e-05 - mse: 2.6256e-05\n",
            "Epoch 48: val_loss did not improve from 0.00006\n",
            "275/275 [==============================] - 4s 15ms/step - loss: 1.3138e-05 - mse: 2.6276e-05 - val_loss: 9.1328e-05 - val_mse: 1.8266e-04\n",
            "Epoch 49/50\n",
            "273/275 [============================>.] - ETA: 0s - loss: 1.5057e-05 - mse: 3.0113e-05\n",
            "Epoch 49: val_loss did not improve from 0.00006\n",
            "275/275 [==============================] - 4s 15ms/step - loss: 1.5149e-05 - mse: 3.0298e-05 - val_loss: 5.9897e-05 - val_mse: 1.1979e-04\n",
            "Epoch 50/50\n",
            "274/275 [============================>.] - ETA: 0s - loss: 1.2438e-05 - mse: 2.4876e-05\n",
            "Epoch 50: val_loss did not improve from 0.00006\n",
            "275/275 [==============================] - 4s 15ms/step - loss: 1.2451e-05 - mse: 2.4903e-05 - val_loss: 8.9808e-05 - val_mse: 1.7962e-04\n"
          ]
        }
      ]
    },
    {
      "cell_type": "code",
      "source": [
        "model.load_weights(filename)"
      ],
      "metadata": {
        "colab": {
          "base_uri": "https://localhost:8080/"
        },
        "id": "ZoeCCvrszuke",
        "outputId": "2ac2a663-ec41-43ab-9cd1-a8aeb55c43dd"
      },
      "execution_count": 44,
      "outputs": [
        {
          "output_type": "execute_result",
          "data": {
            "text/plain": [
              "<tensorflow.python.training.tracking.util.CheckpointLoadStatus at 0x7f59aee8d410>"
            ]
          },
          "metadata": {},
          "execution_count": 44
        }
      ]
    },
    {
      "cell_type": "code",
      "source": [
        "pred = model.predict(test_data)"
      ],
      "metadata": {
        "id": "m9EWuNTPzzUV"
      },
      "execution_count": 45,
      "outputs": []
    },
    {
      "cell_type": "code",
      "source": [
        "pred.shape"
      ],
      "metadata": {
        "colab": {
          "base_uri": "https://localhost:8080/"
        },
        "id": "pZuxBXn1z3Qd",
        "outputId": "a72d5ee4-d736-4564-e497-bda37734e910"
      },
      "execution_count": 46,
      "outputs": [
        {
          "output_type": "execute_result",
          "data": {
            "text/plain": [
              "(2179, 1)"
            ]
          },
          "metadata": {},
          "execution_count": 46
        }
      ]
    },
    {
      "cell_type": "code",
      "source": [
        "plt.figure(figsize=(20, 10))\n",
        "plt.plot(np.asarray(y_test)[20:], label='actual')\n",
        "plt.plot(pred, label='prediction')\n",
        "plt.legend()\n",
        "plt.show()"
      ],
      "metadata": {
        "colab": {
          "base_uri": "https://localhost:8080/",
          "height": 592
        },
        "id": "yuiTU_Ejz6w4",
        "outputId": "235ef1fe-e899-4f1f-d439-02e04208a0aa"
      },
      "execution_count": 47,
      "outputs": [
        {
          "output_type": "display_data",
          "data": {
            "text/plain": [
              "<Figure size 1440x720 with 1 Axes>"
            ],
            "image/png": "[encoded data removed]"
          },
          "metadata": {
            "needs_background": "light"
          }
        }
      ]
    }
  ]
}